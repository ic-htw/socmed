{
 "cells": [
  {
   "cell_type": "code",
   "execution_count": null,
   "metadata": {},
   "outputs": [],
   "source": [
    "import kuzu\n",
    "\n",
    "db = kuzu.Database(\"socmed.kuzu\", buffer_pool_size=30000000000)\n",
    "con = kuzu.Connection(db)"
   ]
  },
  {
   "cell_type": "code",
   "execution_count": null,
   "metadata": {},
   "outputs": [],
   "source": [
    "q = \"\"\"\n",
    "MATCH (person1:Person)-[:KNOWS]->(person2:Person)-[:KNOWS]->(person3:Person)-[:HAS_INTEREST]->(tag:Tag)\n",
    "WHERE  person1.id <> person3.id\n",
    "RETURN count(*) AS count;\n",
    "\"\"\"\n",
    "rs = con.execute(q)\n",
    "\n",
    "while rs.has_next():\n",
    "    print(rs.get_next())\n"
   ]
  }
 ],
 "metadata": {
  "kernelspec": {
   "display_name": "base",
   "language": "python",
   "name": "python3"
  },
  "language_info": {
   "codemirror_mode": {
    "name": "ipython",
    "version": 3
   },
   "file_extension": ".py",
   "mimetype": "text/x-python",
   "name": "python",
   "nbconvert_exporter": "python",
   "pygments_lexer": "ipython3",
   "version": "3.10.8"
  },
  "orig_nbformat": 4,
  "vscode": {
   "interpreter": {
    "hash": "039cf81142b37dfff7a650da7bdd18dc2823c756d8ff5727135324df0345041b"
   }
  }
 },
 "nbformat": 4,
 "nbformat_minor": 2
}
